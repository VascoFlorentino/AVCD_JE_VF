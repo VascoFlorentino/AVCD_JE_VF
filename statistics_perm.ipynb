{
 "cells": [
  {
   "attachments": {},
   "cell_type": "markdown",
   "metadata": {},
   "source": [
    "### Olive Plantations"
   ]
  },
  {
   "cell_type": "code",
   "execution_count": 3,
   "metadata": {},
   "outputs": [
    {
     "name": "stdout",
     "output_type": "stream",
     "text": [
      "The variation in the area of Olive Plantations from 1989 to 2019 is 10.79%\n",
      "The area of Olive Plantations in 1989: 340484.0 hectares\n",
      "The area of Olive Plantations in 2019: 377235.0 hectares\n"
     ]
    }
   ],
   "source": [
    "import csv\n",
    "\n",
    "# Modify the file_path with the actual path to your CSV file\n",
    "file_path = '3_perm_crops.csv'\n",
    "\n",
    "olive_area_1989 = 0\n",
    "olive_area_2019 = 0\n",
    "\n",
    "with open(file_path, 'r', encoding='utf-8') as file:\n",
    "    reader = csv.DictReader(file)\n",
    "    for row in reader:\n",
    "        crop = row['Perm_crop']\n",
    "        area_1989 = float(row['Area_1989'])\n",
    "        area_2019 = float(row['Area_2019'])\n",
    "        \n",
    "        if crop == 'Olive plantations':\n",
    "            olive_area_1989 += area_1989\n",
    "            olive_area_2019 += area_2019\n",
    "\n",
    "variation = (olive_area_2019 - olive_area_1989) / olive_area_1989 * 100\n",
    "\n",
    "print(f\"The variation in the area of Olive Plantations from 1989 to 2019 is {variation:.2f}%\")\n",
    "\n",
    "print(f\"The area of Olive Plantations in 1989: {olive_area_1989} hectares\")\n",
    "print(f\"The area of Olive Plantations in 2019: {olive_area_2019} hectares\")"
   ]
  },
  {
   "cell_type": "code",
   "execution_count": 2,
   "metadata": {},
   "outputs": [
    {
     "name": "stdout",
     "output_type": "stream",
     "text": [
      "The olive plantations represent 43.84% of the total area.\n"
     ]
    }
   ],
   "source": [
    "import pandas as pd\n",
    "\n",
    "# Read the data from the CSV file\n",
    "data = pd.read_csv('3_perm_crops.csv')\n",
    "\n",
    "# Filter the data to include only rows with olive plantations\n",
    "olive_data = data[data['Perm_crop'] == 'Olive plantations']\n",
    "\n",
    "# Calculate the total area\n",
    "total_area = data['Area_2019'].sum()\n",
    "\n",
    "# Calculate the area occupied by olive plantations\n",
    "olive_area = olive_data['Area_2019'].sum()\n",
    "\n",
    "# Calculate the percentage\n",
    "percentage = (olive_area / total_area) * 100\n",
    "\n",
    "# Print the result\n",
    "print(f\"The olive plantations represent {percentage:.2f}% of the total area.\")\n"
   ]
  }
 ],
 "metadata": {
  "kernelspec": {
   "display_name": "Python 3",
   "language": "python",
   "name": "python3"
  },
  "language_info": {
   "codemirror_mode": {
    "name": "ipython",
    "version": 3
   },
   "file_extension": ".py",
   "mimetype": "text/x-python",
   "name": "python",
   "nbconvert_exporter": "python",
   "pygments_lexer": "ipython3",
   "version": "3.10.7"
  },
  "orig_nbformat": 4
 },
 "nbformat": 4,
 "nbformat_minor": 2
}
