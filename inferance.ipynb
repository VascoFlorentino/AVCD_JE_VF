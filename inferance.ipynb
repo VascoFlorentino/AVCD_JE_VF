{
 "cells": [
  {
   "cell_type": "code",
   "execution_count": 2,
   "metadata": {},
   "outputs": [
    {
     "name": "stdout",
     "output_type": "stream",
     "text": [
      "              df       sum_sq     mean_sq         F    PR(>F)\n",
      "region_name  2.0    46.166667   23.083333  0.120313  0.888045\n",
      "Residual     9.0  1726.750000  191.861111       NaN       NaN\n"
     ]
    }
   ],
   "source": [
    "import pandas as pd\n",
    "from statsmodels.formula.api import ols\n",
    "from statsmodels.stats.anova import anova_lm\n",
    "\n",
    "# Create a DataFrame from the provided database\n",
    "data = pd.DataFrame({\n",
    "    'Nuts_region_temp': ['111160101_Aboim das Choças_Cereals', '111160102_Aguiã_Cereals', '111160104_Ázere_Cereals'],\n",
    "    'NutsID': [111160101, 111160102, 111160104],\n",
    "    'region_name': ['Aboim das Choças', 'Aguiã', 'Ázere'],\n",
    "    'Temp_crop': ['Cereals', 'Cereals', 'Cereals'],\n",
    "    'Area_1989': [43, 31, 38],\n",
    "    'Area_1999': [15, 26, 26],\n",
    "    'Area_2009': [8, 24, 15],\n",
    "    'Area_2019': [6, 10, 5]\n",
    "})\n",
    "\n",
    "# Filter the DataFrame for \"Cereals\" crop\n",
    "cereals_data = data[data['Temp_crop'] == 'Cereals']\n",
    "\n",
    "# Reshape the data for ANOVA test\n",
    "melted_data = pd.melt(cereals_data, id_vars=['region_name'], value_vars=['Area_1989', 'Area_1999', 'Area_2009', 'Area_2019'],\n",
    "                      var_name='Year', value_name='Crop_Area')\n",
    "\n",
    "# Perform ANOVA test\n",
    "formula = 'Crop_Area ~ region_name'\n",
    "model = ols(formula, melted_data).fit()\n",
    "anova_table = anova_lm(model)\n",
    "\n",
    "# Print the ANOVA table\n",
    "print(anova_table)\n",
    "\n"
   ]
  }
 ],
 "metadata": {
  "kernelspec": {
   "display_name": "Python 3",
   "language": "python",
   "name": "python3"
  },
  "language_info": {
   "codemirror_mode": {
    "name": "ipython",
    "version": 3
   },
   "file_extension": ".py",
   "mimetype": "text/x-python",
   "name": "python",
   "nbconvert_exporter": "python",
   "pygments_lexer": "ipython3",
   "version": "3.10.7"
  },
  "orig_nbformat": 4
 },
 "nbformat": 4,
 "nbformat_minor": 2
}
