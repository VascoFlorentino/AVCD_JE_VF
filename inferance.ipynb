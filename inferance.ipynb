{
 "cells": [
  {
   "cell_type": "code",
   "execution_count": 1,
   "metadata": {},
   "outputs": [
    {
     "name": "stdout",
     "output_type": "stream",
     "text": [
      "                  df        sum_sq        mean_sq         F  PR(>F)\n",
      "region_name   2873.0  3.960913e+08  137866.801400  4.699795     0.0\n",
      "Residual     83702.0  2.455368e+09   29334.639872       NaN     NaN\n"
     ]
    }
   ],
   "source": [
    "import pandas as pd\n",
    "from statsmodels.formula.api import ols\n",
    "from statsmodels.stats.anova import anova_lm\n",
    "\n",
    "# Read the database from a CSV file\n",
    "data = pd.read_csv('3_perm_crops.csv')\n",
    "\n",
    "# Reshape the data for ANOVA test\n",
    "melted_data = pd.melt(data, id_vars=['region_name'], value_vars=['Area_1989', 'Area_1999', 'Area_2009', 'Area_2019'],\n",
    "                      var_name='Year', value_name='Crop_Area')\n",
    "\n",
    "# Perform ANOVA test\n",
    "formula = 'Crop_Area ~ region_name'\n",
    "model = ols(formula, melted_data).fit()\n",
    "anova_table = anova_lm(model)\n",
    "\n",
    "# Print the ANOVA table\n",
    "print(anova_table)"
   ]
  },
  {
   "attachments": {},
   "cell_type": "markdown",
   "metadata": {},
   "source": [
    "                  df        sum_sq        mean_sq         F  PR(>F)\n",
    "region_name   2873.0  3.960913e+08  137866.801400  4.699795     0.0\n",
    "Residual     83702.0  2.455368e+09   29334.639872       NaN     NaN"
   ]
  },
  {
   "cell_type": "code",
   "execution_count": 2,
   "metadata": {},
   "outputs": [],
   "source": [
    "import pandas as pd\n",
    "from statsmodels.formula.api import ols\n",
    "from statsmodels.stats.anova import anova_lm\n",
    "\n",
    "# Read the database from a CSV file\n",
    "data = pd.read_csv('3_temp_crops.csv')\n",
    "\n",
    "# Reshape the data for ANOVA test\n",
    "melted_data = pd.melt(data, id_vars=['region_name'], value_vars=['Area_1989', 'Area_1999', 'Area_2009', 'Area_2019'],\n",
    "                      var_name='Year', value_name='Crop_Area')\n",
    "\n",
    "# Perform ANOVA test\n",
    "formula = 'Crop_Area ~ region_name'\n",
    "model = ols(formula, melted_data).fit()\n",
    "anova_table = anova_lm(model)\n",
    "\n",
    "# Print the ANOVA table\n",
    "print(anova_table)"
   ]
  }
 ],
 "metadata": {
  "kernelspec": {
   "display_name": "Python 3",
   "language": "python",
   "name": "python3"
  },
  "language_info": {
   "codemirror_mode": {
    "name": "ipython",
    "version": 3
   },
   "file_extension": ".py",
   "mimetype": "text/x-python",
   "name": "python",
   "nbconvert_exporter": "python",
   "pygments_lexer": "ipython3",
   "version": "3.10.7"
  },
  "orig_nbformat": 4
 },
 "nbformat": 4,
 "nbformat_minor": 2
}
