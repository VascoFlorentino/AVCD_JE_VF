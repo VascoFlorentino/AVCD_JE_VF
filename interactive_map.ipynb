{
 "cells": [
  {
   "attachments": {},
   "cell_type": "markdown",
   "metadata": {},
   "source": [
    "# Interactive map with all freguesias and crop information"
   ]
  },
  {
   "attachments": {},
   "cell_type": "markdown",
   "metadata": {},
   "source": [
    "### This code takes a long time to run and uses the entire memory of the computer. Do not run on VScode."
   ]
  },
  {
   "cell_type": "code",
   "execution_count": 10,
   "metadata": {},
   "outputs": [],
   "source": [
    "import geopandas as gpd\n",
    "import pandas as pd\n",
    "from bokeh.plotting import figure, show\n",
    "from bokeh.models import GeoJSONDataSource, HoverTool\n",
    "import os\n",
    "import geopandas as gpd\n",
    "import pandas as pd\n",
    "import matplotlib.pyplot as plt\n",
    "from dbfread import DBF\n",
    "import imageio\n",
    "\n",
    "# Set the SHAPE_RESTORE_SHX environment variable to YES\n",
    "os.environ[\"SHAPE_RESTORE_SHX\"] = \"YES\"\n",
    "\n",
    "# Step 1: Read the shapefile using GeoPandas\n",
    "shapefile_path = 'Cont_AAD_CAOP2017.shp'\n",
    "map_data = gpd.read_file(shapefile_path, encoding='utf-8')\n",
    "\n",
    "# Step 2: Read the attribute data from the DBF file using dbfread\n",
    "dbf_file_path = 'Cont_AAD_CAOP2017.dbf'\n",
    "attribute_data = pd.DataFrame(iter(DBF(dbf_file_path, encoding='utf-8')))\n",
    "\n",
    "# Load CSV files\n",
    "csv1_path = \"3_perm_crops.csv\"\n",
    "csv2_path = \"3_temp_crops.csv\"\n",
    "df1 = pd.read_csv(csv1_path)\n",
    "df2 = pd.read_csv(csv2_path)\n",
    "\n",
    "# Merge CSV data with shapefile data\n",
    "merged_data = map_data.merge(df1, left_on='Freguesia', right_on='region_name')\n",
    "merged_data = merged_data.merge(df2, left_on='Freguesia', right_on='region_name')\n",
    "\n",
    "# Convert merged data to GeoJSONDataSource\n",
    "geojson = merged_data.to_json()\n",
    "geosource = GeoJSONDataSource(geojson=geojson)\n",
    "\n",
    "# Create a figure\n",
    "p = figure(title=\"Interactive Hover Tool Map\", toolbar_location=\"above\")\n",
    "\n",
    "# Add the shapefile polygons to the figure\n",
    "p.patches(\"xs\", \"ys\", source=geosource, line_color=\"black\", line_width=0.5, fill_alpha=0.8)\n",
    "\n",
    "# Add hover tool\n",
    "hover = HoverTool(tooltips=[(\"Column1\", \"@column1\"), (\"Column2\", \"@column2\")])\n",
    "p.add_tools(hover)\n",
    "\n",
    "# Display the map\n",
    "show(p)\n"
   ]
  }
 ],
 "metadata": {
  "kernelspec": {
   "display_name": "Python 3",
   "language": "python",
   "name": "python3"
  },
  "language_info": {
   "codemirror_mode": {
    "name": "ipython",
    "version": 3
   },
   "file_extension": ".py",
   "mimetype": "text/x-python",
   "name": "python",
   "nbconvert_exporter": "python",
   "pygments_lexer": "ipython3",
   "version": "3.10.7"
  },
  "orig_nbformat": 4
 },
 "nbformat": 4,
 "nbformat_minor": 2
}
