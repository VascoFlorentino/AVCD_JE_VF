{
 "cells": [
  {
   "attachments": {},
   "cell_type": "markdown",
   "metadata": {},
   "source": [
    "### Cereals"
   ]
  },
  {
   "cell_type": "code",
   "execution_count": 3,
   "metadata": {},
   "outputs": [
    {
     "name": "stdout",
     "output_type": "stream",
     "text": [
      "The cereals in 1989 represent 47.54% of the total area in that year.\n"
     ]
    }
   ],
   "source": [
    "import pandas as pd\n",
    "\n",
    "# Read the data from the CSV file\n",
    "data = pd.read_csv('3_temp_crops.csv')\n",
    "\n",
    "# Filter the data to include only rows with cereals in the year 1989\n",
    "cereals_1989_data = data[(data['Temp_crop'] == 'Cereals') & (data['Area_1989'] > 0)]\n",
    "\n",
    "# Calculate the total area in 1989\n",
    "total_area_1989 = data['Area_1989'].sum()\n",
    "\n",
    "# Calculate the area occupied by cereals in 1989\n",
    "cereals_1989_area = cereals_1989_data['Area_1989'].sum()\n",
    "\n",
    "# Calculate the percentage\n",
    "percentage = (cereals_1989_area / total_area_1989) * 100\n",
    "\n",
    "# Print the result\n",
    "print(f\"The cereals in 1989 represent {percentage:.2f}% of the total area in that year.\")\n"
   ]
  }
 ],
 "metadata": {
  "kernelspec": {
   "display_name": "Python 3",
   "language": "python",
   "name": "python3"
  },
  "language_info": {
   "codemirror_mode": {
    "name": "ipython",
    "version": 3
   },
   "file_extension": ".py",
   "mimetype": "text/x-python",
   "name": "python",
   "nbconvert_exporter": "python",
   "pygments_lexer": "ipython3",
   "version": "3.10.7"
  },
  "orig_nbformat": 4
 },
 "nbformat": 4,
 "nbformat_minor": 2
}
