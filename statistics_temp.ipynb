{
 "cells": [
  {
   "attachments": {},
   "cell_type": "markdown",
   "metadata": {},
   "source": [
    "### Cereals"
   ]
  },
  {
   "cell_type": "code",
   "execution_count": null,
   "metadata": {},
   "outputs": [],
   "source": [
    "import pandas as pd\n",
    "\n",
    "# Read the data from the CSV file\n",
    "data = pd.read_csv('3_temp_crops.csv')\n",
    "\n",
    "# Filter the data to include only rows with cereals in the year 1989\n",
    "cereals_1989_data = data[(data['Temp_crop'] == 'Cereals') & (data['Area_1989'] > 0)]\n",
    "\n",
    "# Calculate the total area in 1989\n",
    "total_area_1989 = data['Area_1989'].sum()\n",
    "\n",
    "# Calculate the area occupied by cereals in 1989\n",
    "cereals_1989_area = cereals_1989_data['Area_1989'].sum()\n",
    "\n",
    "# Calculate the percentage\n",
    "percentage = (cereals_1989_area / total_area_1989) * 100\n",
    "\n",
    "# Print the result\n",
    "print(f\"The cereals in 1989 represent {percentage:.2f}% of the total area in that year.\")\n"
   ]
  },
  {
   "cell_type": "code",
   "execution_count": null,
   "metadata": {},
   "outputs": [],
   "source": [
    "import csv\n",
    "\n",
    "# Modify the file_path with the actual path to your CSV file\n",
    "file_path = '3_temp_crops.csv'\n",
    "\n",
    "cereals_1989 = 0\n",
    "cereals_2019 = 0\n",
    "\n",
    "with open(file_path, 'r', encoding='utf-8') as file:\n",
    "    reader = csv.DictReader(file)\n",
    "    for row in reader:\n",
    "        crop = row['Temp_crop']\n",
    "        area_1989 = float(row['Area_1989'])\n",
    "        area_2019 = float(row['Area_2019'])\n",
    "\n",
    "        if crop == 'Cereals':\n",
    "            cereals_1989 += area_1989\n",
    "            cereals_2019 += area_2019\n",
    "\n",
    "# Calculate the variation only if cereals_1989 is not zero\n",
    "if cereals_1989 != 0:\n",
    "    variation = ((cereals_2019 - cereals_1989) / cereals_1989) * 100\n",
    "else:\n",
    "    variation = 0\n",
    "\n",
    "print(f\"The variation in the area of Cereals from 1989 to 2019 is {variation:.2f}%\")\n",
    "print(f\"The area of Cereals in 1989: {cereals_1989} hectares\")\n",
    "print(f\"The area of Cereals in 2019: {cereals_2019} hectares\")\n"
   ]
  },
  {
   "cell_type": "code",
   "execution_count": null,
   "metadata": {},
   "outputs": [],
   "source": [
    "import csv\n",
    "from prettytable import PrettyTable\n",
    "\n",
    "# Modify the file_path with the actual path to your CSV file\n",
    "file_path = '3_temp_crops.csv'\n",
    "\n",
    "crop_categories = {\n",
    "    'Cereals': 0,\n",
    "    'Dried pulses': 0,\n",
    "    'Temporary grasses and grazings': 0,\n",
    "    'Fodder plants': 0,\n",
    "    'Potatoes': 0,\n",
    "    'Sugarbeets': 0,\n",
    "    'Industrial crops': 0,\n",
    "    'Fresh vegetables': 0,\n",
    "    'Flowers and ornamental plants': 0,\n",
    "    'Other temporary crops': 0\n",
    "}\n",
    "\n",
    "with open(file_path, 'r', encoding='utf-8') as file:\n",
    "    reader = csv.DictReader(file)\n",
    "    for row in reader:\n",
    "        crop = row['Temp_crop']\n",
    "        area_1989 = float(row['Area_1989'])\n",
    "        area_2019 = float(row['Area_2019'])\n",
    "\n",
    "        if crop in crop_categories:\n",
    "            crop_categories[crop] += area_2019 - area_1989\n",
    "\n",
    "# Create a PrettyTable instance\n",
    "table = PrettyTable()\n",
    "table.field_names = [\"Crop\", \"Variation (hectares)\"]\n",
    "\n",
    "# Add data to the table\n",
    "for crop, variation in crop_categories.items():\n",
    "    table.add_row([crop, f\"{variation:.2f}\"])\n",
    "\n",
    "# Set the table style\n",
    "table.align[\"Crop\"] = \"l\"\n",
    "table.align[\"Variation (hectares)\"] = \"r\"\n",
    "\n",
    "# Print the table\n",
    "print(table)\n"
   ]
  }
 ],
 "metadata": {
  "kernelspec": {
   "display_name": "Python 3",
   "language": "python",
   "name": "python3"
  },
  "language_info": {
   "codemirror_mode": {
    "name": "ipython",
    "version": 3
   },
   "file_extension": ".py",
   "mimetype": "text/x-python",
   "name": "python",
   "nbconvert_exporter": "python",
   "pygments_lexer": "ipython3",
   "version": "3.10.7"
  },
  "orig_nbformat": 4
 },
 "nbformat": 4,
 "nbformat_minor": 2
}
