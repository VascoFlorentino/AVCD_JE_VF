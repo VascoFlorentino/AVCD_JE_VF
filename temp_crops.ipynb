{
 "cells": [
  {
   "attachments": {},
   "cell_type": "markdown",
   "metadata": {},
   "source": [
    "Bar chart of the Total Area of Temporary Crops by Year (of all Freguesias in Portugal):"
   ]
  },
  {
   "cell_type": "code",
   "execution_count": null,
   "metadata": {},
   "outputs": [],
   "source": [
    "import pandas as pd\n",
    "import matplotlib.pyplot as plt\n",
    "import seaborn as sns\n",
    "\n",
    "# Load the data from a CSV file\n",
    "data = pd.read_csv('3_temp_crops.csv')\n",
    "\n",
    "# Rename the columns\n",
    "data.rename(columns={'Area_1989': '1989'}, inplace=True)\n",
    "data.rename(columns={'Area_1999': '1999'}, inplace=True)\n",
    "data.rename(columns={'Area_2009': '2009'}, inplace=True)\n",
    "data.rename(columns={'Area_2019': '2019'}, inplace=True)\n",
    "\n",
    "# Group the data by crop and calculate the total area for each crop\n",
    "crop_totals_1989 = data.groupby('Temp_crop')[['1989', '1999', '2009', '2019']].sum().reset_index()\n",
    "\n",
    "# Sort the data by total area in descending order\n",
    "crop_totals_1989 = crop_totals_1989.sort_values('1989', ascending=False)\n",
    "\n",
    "# Create custom abbreviations for x-axis labels\n",
    "abbreviations = ['C', 'FP', 'P', 'DP', 'TGG', 'IC', 'FV', 'OTC', 'FOP', 'S']  # Update with desired abbreviations\n",
    "\n",
    "# Add the abbreviations as a new column in crop_totals DataFrame\n",
    "crop_totals_1989['Abbreviation'] = abbreviations\n",
    "\n",
    "# Melt the data to convert the year columns into a single 'Year' column\n",
    "melted_data = pd.melt(crop_totals_1989, id_vars=['Temp_crop', 'Abbreviation'], var_name='Year', value_name='Total_Area')\n",
    "\n",
    "# Create a bar chart to visualize the total area for each crop over the years\n",
    "plt.figure(figsize=(10, 6))\n",
    "sns.barplot(x='Temp_crop', y='Total_Area', hue='Year', data=melted_data)\n",
    "plt.xlabel('Temporary Crop', fontsize=12)\n",
    "plt.ylabel('Total Area (ha)', fontsize=12)\n",
    "plt.title('Total Area of Temporary Crops by Year (of all Freguesias in Portugal)', fontsize=14)\n",
    "plt.xticks(range(len(crop_totals_1989)), abbreviations, fontsize=10)\n",
    "plt.yticks(fontsize=10)\n",
    "plt.legend(title='Year', fontsize=10, title_fontsize=12, loc='upper right')\n",
    "plt.show()\n"
   ]
  },
  {
   "cell_type": "code",
   "execution_count": null,
   "metadata": {},
   "outputs": [],
   "source": [
    "import geopandas as gpd\n",
    "import matplotlib.pyplot as plt\n",
    "\n",
    "# Load the shapefile of the regions\n",
    "regions_shapefile = \"Cont_AAD_CAOP2017.shp\"\n",
    "regions_data = gpd.read_file(regions_shapefile)\n",
    "\n",
    "# List of region names\n",
    "region_names = [\"Region A\", \"Region B\", \"Region C\"]\n",
    "\n",
    "# Filter the regions based on the region names\n",
    "filtered_regions = regions_data[regions_data[\"region_name\"].isin(region_names)]\n",
    "\n",
    "# Plot the filtered regions\n",
    "fig, ax = plt.subplots(figsize=(10, 10))\n",
    "filtered_regions.plot(ax=ax, edgecolor='black', linewidth=1)\n",
    "\n",
    "# Add title and show the map\n",
    "ax.set_title(\"Map of Selected Regions\")\n",
    "plt.show()"
   ]
  }
 ],
 "metadata": {
  "kernelspec": {
   "display_name": "Python 3",
   "language": "python",
   "name": "python3"
  },
  "language_info": {
   "codemirror_mode": {
    "name": "ipython",
    "version": 3
   },
   "file_extension": ".py",
   "mimetype": "text/x-python",
   "name": "python",
   "nbconvert_exporter": "python",
   "pygments_lexer": "ipython3",
   "version": "3.10.7"
  },
  "orig_nbformat": 4
 },
 "nbformat": 4,
 "nbformat_minor": 2
}
