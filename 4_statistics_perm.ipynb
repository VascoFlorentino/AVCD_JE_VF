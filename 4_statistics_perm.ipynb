{
 "cells": [
  {
   "attachments": {},
   "cell_type": "markdown",
   "metadata": {},
   "source": [
    "# Statistical Analysis of Permanent crops"
   ]
  },
  {
   "attachments": {},
   "cell_type": "markdown",
   "metadata": {},
   "source": [
    "### Olive Plantations"
   ]
  },
  {
   "cell_type": "code",
   "execution_count": 1,
   "metadata": {},
   "outputs": [
    {
     "name": "stdout",
     "output_type": "stream",
     "text": [
      "The variation in the area of Olive Plantations from 1989 to 2019 is 10.79%\n",
      "The area of Olive Plantations in 1989: 340484.0 hectares\n",
      "The area of Olive Plantations in 2019: 377235.0 hectares\n"
     ]
    }
   ],
   "source": [
    "import csv\n",
    "\n",
    "# Modify the file_path with the actual path to your CSV file\n",
    "file_path = '3_perm_crops.csv'\n",
    "\n",
    "olive_area_1989 = 0\n",
    "olive_area_2019 = 0\n",
    "\n",
    "with open(file_path, 'r', encoding='utf-8') as file:\n",
    "    reader = csv.DictReader(file)\n",
    "    for row in reader:\n",
    "        crop = row['Perm_crop']\n",
    "        area_1989 = float(row['Area_1989'])\n",
    "        area_2019 = float(row['Area_2019'])\n",
    "        \n",
    "        if crop == 'Olive plantations':\n",
    "            olive_area_1989 += area_1989\n",
    "            olive_area_2019 += area_2019\n",
    "\n",
    "variation = (olive_area_2019 - olive_area_1989) / olive_area_1989 * 100\n",
    "\n",
    "print(f\"The variation in the area of Olive Plantations from 1989 to 2019 is {variation:.2f}%\")\n",
    "print(f\"The area of Olive Plantations in 1989: {olive_area_1989} hectares\")\n",
    "print(f\"The area of Olive Plantations in 2019: {olive_area_2019} hectares\")"
   ]
  },
  {
   "cell_type": "code",
   "execution_count": 10,
   "metadata": {},
   "outputs": [
    {
     "name": "stdout",
     "output_type": "stream",
     "text": [
      "The olive plantations represent 43.84% of the total area.\n"
     ]
    }
   ],
   "source": [
    "import pandas as pd\n",
    "\n",
    "# Read the data from the CSV file\n",
    "data = pd.read_csv('3_perm_crops.csv')\n",
    "\n",
    "# Filter the data to include only rows with olive plantations\n",
    "olive_data = data[data['Perm_crop'] == 'Olive plantations']\n",
    "\n",
    "# Calculate the total area\n",
    "total_area = data['Area_2019'].sum()\n",
    "\n",
    "# Calculate the area occupied by olive plantations\n",
    "olive_area = olive_data['Area_2019'].sum()\n",
    "\n",
    "# Calculate the percentage\n",
    "percentage = (olive_area / total_area) * 100\n",
    "\n",
    "# Print the result\n",
    "print(f\"The olive plantations represent {percentage:.2f}% of the total area.\")\n"
   ]
  },
  {
   "attachments": {},
   "cell_type": "markdown",
   "metadata": {},
   "source": [
    "### Nuts plantations"
   ]
  },
  {
   "cell_type": "code",
   "execution_count": 9,
   "metadata": {},
   "outputs": [
    {
     "name": "stdout",
     "output_type": "stream",
     "text": [
      "The variation in the area of Nuts Plantations from 2009 to 2019 is 98.65%\n",
      "The area of Nuts Plantations in 1989: 73855.0 hectares\n",
      "The area of Nuts Plantations in 1999: 80422.0 hectares\n",
      "The area of Nuts Plantations in 2009: 115127.0 hectares\n",
      "The area of Nuts Plantations in 2019: 228699.0 hectares\n"
     ]
    }
   ],
   "source": [
    "import csv\n",
    "\n",
    "# Modify the file_path with the actual path to your CSV file\n",
    "file_path = '3_perm_crops.csv'\n",
    "\n",
    "nuts_area_1989 = 0\n",
    "nuts_area_1999 = 0\n",
    "nuts_area_2009 = 0\n",
    "nuts_area_2019 = 0\n",
    "\n",
    "with open(file_path, 'r', encoding='utf-8') as file:\n",
    "    reader = csv.DictReader(file)\n",
    "    for row in reader:\n",
    "        crop = row['Perm_crop']\n",
    "        area_1989 = float(row['Area_1989'])\n",
    "        area_1999 = float(row['Area_1999'])\n",
    "        area_2009 = float(row['Area_2009'])\n",
    "        area_2019 = float(row['Area_2019'])\n",
    "\n",
    "        if crop == 'Nuts plantations':\n",
    "            nuts_area_1989 += area_1989\n",
    "            nuts_area_1999 += area_1999\n",
    "            nuts_area_2009 += area_2009\n",
    "            nuts_area_2019 += area_2019\n",
    "\n",
    "variation = (nuts_area_2019 - nuts_area_2009) / nuts_area_2009 * 100\n",
    "\n",
    "print(f\"The variation in the area of Nuts Plantations from 2009 to 2019 is {variation:.2f}%\")\n",
    "print(f\"The area of Nuts Plantations in 1989: {nuts_area_1989} hectares\")\n",
    "print(f\"The area of Nuts Plantations in 1999: {nuts_area_1999} hectares\")\n",
    "print(f\"The area of Nuts Plantations in 2009: {nuts_area_2009} hectares\")\n",
    "print(f\"The area of Nuts Plantations in 2019: {nuts_area_2019} hectares\")\n",
    "\n"
   ]
  },
  {
   "attachments": {},
   "cell_type": "markdown",
   "metadata": {},
   "source": [
    "### All permanent crops"
   ]
  },
  {
   "cell_type": "code",
   "execution_count": 4,
   "metadata": {},
   "outputs": [
    {
     "name": "stdout",
     "output_type": "stream",
     "text": [
      "+--------------------------------------------------------+----------------------+\n",
      "| Crop                                                   | Variation (hectares) |\n",
      "+--------------------------------------------------------+----------------------+\n",
      "| Citrus plantations                                     |             -7201.00 |\n",
      "| Olive plantations                                      |             36751.00 |\n",
      "| Fresh fruit plantations (excluding citrus plantations) |            -24637.00 |\n",
      "| Fruit plantations (subtropical climate zones)          |              4643.00 |\n",
      "| Nuts plantations                                       |            154844.00 |\n",
      "| Vineyards                                              |            -93057.00 |\n",
      "| Other permanent crops                                  |              -167.00 |\n",
      "+--------------------------------------------------------+----------------------+\n"
     ]
    }
   ],
   "source": [
    "import csv\n",
    "from prettytable import PrettyTable\n",
    "\n",
    "# Modify the file_path with the actual path to your CSV file\n",
    "file_path = '3_perm_crops.csv'\n",
    "\n",
    "crop_categories = {\n",
    "    'Citrus plantations': 0,\n",
    "    'Olive plantations': 0,\n",
    "    'Fresh fruit plantations (excluding citrus plantations)': 0,\n",
    "    'Fruit plantations (subtropical climate zones)': 0,\n",
    "    'Nuts plantations': 0,\n",
    "    'Vineyards': 0,\n",
    "    'Other permanent crops': 0\n",
    "}\n",
    "\n",
    "with open(file_path, 'r', encoding='utf-8') as file:\n",
    "    reader = csv.DictReader(file)\n",
    "    for row in reader:\n",
    "        crop = row['Perm_crop']\n",
    "        area_1989 = float(row['Area_1989'])\n",
    "        area_2019 = float(row['Area_2019'])\n",
    "\n",
    "        if crop in crop_categories:\n",
    "            variation = area_2019 - area_1989\n",
    "            crop_categories[crop] += variation\n",
    "\n",
    "# Create a PrettyTable instance\n",
    "table = PrettyTable()\n",
    "table.field_names = [\"Crop\", \"Variation (hectares)\"]\n",
    "\n",
    "# Add data to the table\n",
    "for crop, variation in crop_categories.items():\n",
    "    table.add_row([crop, f\"{variation:.2f}\"])\n",
    "\n",
    "# Set the table style\n",
    "table.align[\"Crop\"] = \"l\"\n",
    "table.align[\"Variation (hectares)\"] = \"r\"\n",
    "\n",
    "# Print the table\n",
    "print(table)"
   ]
  }
 ],
 "metadata": {
  "kernelspec": {
   "display_name": "Python 3",
   "language": "python",
   "name": "python3"
  },
  "language_info": {
   "codemirror_mode": {
    "name": "ipython",
    "version": 3
   },
   "file_extension": ".py",
   "mimetype": "text/x-python",
   "name": "python",
   "nbconvert_exporter": "python",
   "pygments_lexer": "ipython3",
   "version": "3.10.7"
  },
  "orig_nbformat": 4
 },
 "nbformat": 4,
 "nbformat_minor": 2
}
